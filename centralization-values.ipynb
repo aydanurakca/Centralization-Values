{
 "cells": [
  {
   "cell_type": "code",
   "execution_count": 15,
   "metadata": {},
   "outputs": [],
   "source": [
    "import networkx as nx\n",
    "import scipy as sp\n",
    "import graphviz as gp\n",
    "from networkx.drawing.nx_pydot import write_dot"
   ]
  },
  {
   "cell_type": "code",
   "execution_count": 16,
   "metadata": {},
   "outputs": [],
   "source": [
    "G = nx.Graph()\n",
    "nodes = ['Frodo Baggins','Gandalf the Grey','Saruman the White','Aragon','Legolas','Gimli','Sam Gamgee','Gollum','Sauron','Boromir','Merry Brandybuck','Pippin Took']\n",
    "G.add_nodes_from(nodes)\n",
    "edges = [('Frodo Baggins','Gandalf the Grey'),('Frodo Baggins','Aragon'),('Frodo Baggins','Sam Gamgee'),('Frodo Baggins','Gollum'),('Frodo Baggins','Sauron'),('Frodo Baggins','Boromir'),('Gandalf the Grey','Saruman the White'),('Gandalf the Grey','Pippin Took'),('Gandalf the Grey','Aragon'),('Saruman the White','Sauron'),('Aragon','Legolas'),('Aragon','Gimli'),('Sam Gamgee','Gollum'),('Gollum','Sauron'),('Sauron','Pippin Took'),('Boromir','Merry Brandybuck'),('Boromir','Pippin Took'),('Legolas','Gimli'),('Merry Brandybuck', 'Pippin Took')]\n",
    "G.add_edges_from(edges)"
   ]
  },
  {
   "cell_type": "code",
   "execution_count": 17,
   "metadata": {},
   "outputs": [
    {
     "data": {
      "text/plain": [
       "{'Frodo Baggins': 0.5454545454545454,\n",
       " 'Gandalf the Grey': 0.36363636363636365,\n",
       " 'Saruman the White': 0.18181818181818182,\n",
       " 'Aragon': 0.36363636363636365,\n",
       " 'Legolas': 0.18181818181818182,\n",
       " 'Gimli': 0.18181818181818182,\n",
       " 'Sam Gamgee': 0.18181818181818182,\n",
       " 'Gollum': 0.2727272727272727,\n",
       " 'Sauron': 0.36363636363636365,\n",
       " 'Boromir': 0.2727272727272727,\n",
       " 'Merry Brandybuck': 0.18181818181818182,\n",
       " 'Pippin Took': 0.36363636363636365}"
      ]
     },
     "execution_count": 17,
     "metadata": {},
     "output_type": "execute_result"
    }
   ],
   "source": [
    "nx.degree_centrality(G) #Normalizes by max. degree in G"
   ]
  },
  {
   "cell_type": "code",
   "execution_count": 18,
   "metadata": {},
   "outputs": [
    {
     "data": {
      "text/plain": [
       "{'Frodo Baggins': 0.6875,\n",
       " 'Gandalf the Grey': 0.6111111111111112,\n",
       " 'Saruman the White': 0.44,\n",
       " 'Aragon': 0.5789473684210527,\n",
       " 'Legolas': 0.39285714285714285,\n",
       " 'Gimli': 0.39285714285714285,\n",
       " 'Sam Gamgee': 0.44,\n",
       " 'Gollum': 0.5,\n",
       " 'Sauron': 0.55,\n",
       " 'Boromir': 0.5,\n",
       " 'Merry Brandybuck': 0.39285714285714285,\n",
       " 'Pippin Took': 0.5238095238095238}"
      ]
     },
     "execution_count": 18,
     "metadata": {},
     "output_type": "execute_result"
    }
   ],
   "source": [
    "nx.closeness_centrality(G)"
   ]
  },
  {
   "cell_type": "code",
   "execution_count": 19,
   "metadata": {},
   "outputs": [
    {
     "data": {
      "text/plain": [
       "{'Frodo Baggins': 0.41363636363636364,\n",
       " 'Gandalf the Grey': 0.18939393939393936,\n",
       " 'Saruman the White': 0.00606060606060606,\n",
       " 'Aragon': 0.32727272727272727,\n",
       " 'Legolas': 0.0,\n",
       " 'Gimli': 0.0,\n",
       " 'Sam Gamgee': 0.0,\n",
       " 'Gollum': 0.019696969696969695,\n",
       " 'Sauron': 0.10909090909090909,\n",
       " 'Boromir': 0.08333333333333333,\n",
       " 'Merry Brandybuck': 0.0,\n",
       " 'Pippin Took': 0.12424242424242424}"
      ]
     },
     "execution_count": 19,
     "metadata": {},
     "output_type": "execute_result"
    }
   ],
   "source": [
    "nx.betweenness_centrality(G)"
   ]
  },
  {
   "cell_type": "code",
   "execution_count": 21,
   "metadata": {},
   "outputs": [
    {
     "data": {
      "text/plain": [
       "{'Frodo Baggins': 0.4977584060641425,\n",
       " 'Gandalf the Grey': 0.36192524194563025,\n",
       " 'Saruman the White': 0.19915263420547724,\n",
       " 'Aragon': 0.29945714946072943,\n",
       " 'Legolas': 0.11382070934781607,\n",
       " 'Gimli': 0.11382070934781607,\n",
       " 'Sam Gamgee': 0.21883362157256833,\n",
       " 'Gollum': 0.29682948087842337,\n",
       " 'Sauron': 0.3612004321870927,\n",
       " 'Boromir': 0.2691195929151802,\n",
       " 'Merry Brandybuck': 0.16163581577661384,\n",
       " 'Pippin Took': 0.3177843380568159}"
      ]
     },
     "execution_count": 21,
     "metadata": {},
     "output_type": "execute_result"
    }
   ],
   "source": [
    "nx.eigenvector_centrality(G)"
   ]
  },
  {
   "cell_type": "code",
   "execution_count": 22,
   "metadata": {},
   "outputs": [
    {
     "data": {
      "text/plain": [
       "{'Frodo Baggins': 0.36771057033892107,\n",
       " 'Gandalf the Grey': 0.3152742064902523,\n",
       " 'Saruman the White': 0.2542184128708322,\n",
       " 'Aragon': 0.309104843277198,\n",
       " 'Legolas': 0.24701534418759516,\n",
       " 'Gimli': 0.24701534418759516,\n",
       " 'Sam Gamgee': 0.2566874441407028,\n",
       " 'Gollum': 0.28513077861476155,\n",
       " 'Sauron': 0.31287680014192704,\n",
       " 'Boromir': 0.2839989703777953,\n",
       " 'Merry Brandybuck': 0.2505707517738247,\n",
       " 'Pippin Took': 0.3076753667335157}"
      ]
     },
     "execution_count": 22,
     "metadata": {},
     "output_type": "execute_result"
    }
   ],
   "source": [
    "nx.katz_centrality(G)"
   ]
  },
  {
   "cell_type": "code",
   "execution_count": 23,
   "metadata": {},
   "outputs": [],
   "source": [
    "write_dot(G,'Lotr.dot')"
   ]
  },
  {
   "cell_type": "code",
   "execution_count": 24,
   "metadata": {},
   "outputs": [
    {
     "data": {
      "image/svg+xml": [
       "<?xml version=\"1.0\" encoding=\"UTF-8\" standalone=\"no\"?>\r\n",
       "<!DOCTYPE svg PUBLIC \"-//W3C//DTD SVG 1.1//EN\"\r\n",
       " \"http://www.w3.org/Graphics/SVG/1.1/DTD/svg11.dtd\">\r\n",
       "<!-- Generated by graphviz version 2.38.0 (20140413.2041)\r\n",
       " -->\r\n",
       "<!-- Title: %3 Pages: 1 -->\r\n",
       "<svg width=\"585pt\" height=\"332pt\"\r\n",
       " viewBox=\"0.00 0.00 584.94 332.00\" xmlns=\"http://www.w3.org/2000/svg\" xmlns:xlink=\"http://www.w3.org/1999/xlink\">\r\n",
       "<g id=\"graph0\" class=\"graph\" transform=\"scale(1 1) rotate(0) translate(4 328)\">\r\n",
       "<title>%3</title>\r\n",
       "<polygon fill=\"white\" stroke=\"none\" points=\"-4,4 -4,-328 580.943,-328 580.943,4 -4,4\"/>\r\n",
       "<!-- Frodo Baggins -->\r\n",
       "<g id=\"node1\" class=\"node\"><title>Frodo Baggins</title>\r\n",
       "<ellipse fill=\"none\" stroke=\"black\" cx=\"384.997\" cy=\"-306\" rx=\"64.9885\" ry=\"18\"/>\r\n",
       "<text text-anchor=\"middle\" x=\"384.997\" y=\"-302.3\" font-family=\"Times New Roman,serif\" font-size=\"14.00\">Frodo Baggins</text>\r\n",
       "</g>\r\n",
       "<!-- Gandalf the Grey -->\r\n",
       "<g id=\"node2\" class=\"node\"><title>Gandalf the Grey</title>\r\n",
       "<ellipse fill=\"none\" stroke=\"black\" cx=\"190.997\" cy=\"-234\" rx=\"73.387\" ry=\"18\"/>\r\n",
       "<text text-anchor=\"middle\" x=\"190.997\" y=\"-230.3\" font-family=\"Times New Roman,serif\" font-size=\"14.00\">Gandalf the Grey</text>\r\n",
       "</g>\r\n",
       "<!-- Frodo Baggins&#45;&#45;Gandalf the Grey -->\r\n",
       "<g id=\"edge1\" class=\"edge\"><title>Frodo Baggins&#45;&#45;Gandalf the Grey</title>\r\n",
       "<path fill=\"none\" stroke=\"black\" d=\"M347.131,-291.337C313.499,-279.202 264.53,-261.533 230.432,-249.229\"/>\r\n",
       "</g>\r\n",
       "<!-- Aragon -->\r\n",
       "<g id=\"node4\" class=\"node\"><title>Aragon</title>\r\n",
       "<ellipse fill=\"none\" stroke=\"black\" cx=\"90.9965\" cy=\"-162\" rx=\"37.8943\" ry=\"18\"/>\r\n",
       "<text text-anchor=\"middle\" x=\"90.9965\" y=\"-158.3\" font-family=\"Times New Roman,serif\" font-size=\"14.00\">Aragon</text>\r\n",
       "</g>\r\n",
       "<!-- Frodo Baggins&#45;&#45;Aragon -->\r\n",
       "<g id=\"edge2\" class=\"edge\"><title>Frodo Baggins&#45;&#45;Aragon</title>\r\n",
       "<path fill=\"none\" stroke=\"black\" d=\"M322.458,-300.955C250.507,-294.978 138.466,-281.181 108.997,-252 89.9537,-233.144 88.2645,-200.084 89.2786,-180\"/>\r\n",
       "</g>\r\n",
       "<!-- Sam Gamgee -->\r\n",
       "<g id=\"node7\" class=\"node\"><title>Sam Gamgee</title>\r\n",
       "<ellipse fill=\"none\" stroke=\"black\" cx=\"341.997\" cy=\"-234\" rx=\"59.2899\" ry=\"18\"/>\r\n",
       "<text text-anchor=\"middle\" x=\"341.997\" y=\"-230.3\" font-family=\"Times New Roman,serif\" font-size=\"14.00\">Sam Gamgee</text>\r\n",
       "</g>\r\n",
       "<!-- Frodo Baggins&#45;&#45;Sam Gamgee -->\r\n",
       "<g id=\"edge3\" class=\"edge\"><title>Frodo Baggins&#45;&#45;Sam Gamgee</title>\r\n",
       "<path fill=\"none\" stroke=\"black\" d=\"M374.587,-288.055C367.827,-277.049 359.051,-262.764 352.31,-251.789\"/>\r\n",
       "</g>\r\n",
       "<!-- Gollum -->\r\n",
       "<g id=\"node8\" class=\"node\"><title>Gollum</title>\r\n",
       "<ellipse fill=\"none\" stroke=\"black\" cx=\"400.997\" cy=\"-162\" rx=\"37.8943\" ry=\"18\"/>\r\n",
       "<text text-anchor=\"middle\" x=\"400.997\" y=\"-158.3\" font-family=\"Times New Roman,serif\" font-size=\"14.00\">Gollum</text>\r\n",
       "</g>\r\n",
       "<!-- Frodo Baggins&#45;&#45;Gollum -->\r\n",
       "<g id=\"edge4\" class=\"edge\"><title>Frodo Baggins&#45;&#45;Gollum</title>\r\n",
       "<path fill=\"none\" stroke=\"black\" d=\"M395.362,-288.031C400.9,-277.957 407.15,-264.707 409.997,-252 415.53,-227.298 410.368,-197.971 405.888,-179.923\"/>\r\n",
       "</g>\r\n",
       "<!-- Sauron -->\r\n",
       "<g id=\"node9\" class=\"node\"><title>Sauron</title>\r\n",
       "<ellipse fill=\"none\" stroke=\"black\" cx=\"347.997\" cy=\"-90\" rx=\"36.2938\" ry=\"18\"/>\r\n",
       "<text text-anchor=\"middle\" x=\"347.997\" y=\"-86.3\" font-family=\"Times New Roman,serif\" font-size=\"14.00\">Sauron</text>\r\n",
       "</g>\r\n",
       "<!-- Frodo Baggins&#45;&#45;Sauron -->\r\n",
       "<g id=\"edge5\" class=\"edge\"><title>Frodo Baggins&#45;&#45;Sauron</title>\r\n",
       "<path fill=\"none\" stroke=\"black\" d=\"M401.263,-288.158C428.455,-257.881 477.401,-192.864 447.997,-144 439.841,-130.447 402.391,-112.979 375.72,-101.88\"/>\r\n",
       "</g>\r\n",
       "<!-- Boromir -->\r\n",
       "<g id=\"node10\" class=\"node\"><title>Boromir</title>\r\n",
       "<ellipse fill=\"none\" stroke=\"black\" cx=\"535.997\" cy=\"-162\" rx=\"40.8928\" ry=\"18\"/>\r\n",
       "<text text-anchor=\"middle\" x=\"535.997\" y=\"-158.3\" font-family=\"Times New Roman,serif\" font-size=\"14.00\">Boromir</text>\r\n",
       "</g>\r\n",
       "<!-- Frodo Baggins&#45;&#45;Boromir -->\r\n",
       "<g id=\"edge6\" class=\"edge\"><title>Frodo Baggins&#45;&#45;Boromir</title>\r\n",
       "<path fill=\"none\" stroke=\"black\" d=\"M420.681,-290.675C440.096,-281.638 463.623,-268.541 480.997,-252 503.097,-230.959 519.877,-199.205 528.802,-179.861\"/>\r\n",
       "</g>\r\n",
       "<!-- Saruman the White -->\r\n",
       "<g id=\"node3\" class=\"node\"><title>Saruman the White</title>\r\n",
       "<ellipse fill=\"none\" stroke=\"black\" cx=\"265.997\" cy=\"-162\" rx=\"79.0865\" ry=\"18\"/>\r\n",
       "<text text-anchor=\"middle\" x=\"265.997\" y=\"-158.3\" font-family=\"Times New Roman,serif\" font-size=\"14.00\">Saruman the White</text>\r\n",
       "</g>\r\n",
       "<!-- Gandalf the Grey&#45;&#45;Saruman the White -->\r\n",
       "<g id=\"edge7\" class=\"edge\"><title>Gandalf the Grey&#45;&#45;Saruman the White</title>\r\n",
       "<path fill=\"none\" stroke=\"black\" d=\"M208.77,-216.411C220.639,-205.333 236.194,-190.816 248.09,-179.713\"/>\r\n",
       "</g>\r\n",
       "<!-- Gandalf the Grey&#45;&#45;Aragon -->\r\n",
       "<g id=\"edge9\" class=\"edge\"><title>Gandalf the Grey&#45;&#45;Aragon</title>\r\n",
       "<path fill=\"none\" stroke=\"black\" d=\"M167.803,-216.765C150.725,-204.81 127.722,-188.708 111.354,-177.25\"/>\r\n",
       "</g>\r\n",
       "<!-- Pippin Took -->\r\n",
       "<g id=\"node12\" class=\"node\"><title>Pippin Took</title>\r\n",
       "<ellipse fill=\"none\" stroke=\"black\" cx=\"414.997\" cy=\"-18\" rx=\"56.59\" ry=\"18\"/>\r\n",
       "<text text-anchor=\"middle\" x=\"414.997\" y=\"-14.3\" font-family=\"Times New Roman,serif\" font-size=\"14.00\">Pippin Took</text>\r\n",
       "</g>\r\n",
       "<!-- Gandalf the Grey&#45;&#45;Pippin Took -->\r\n",
       "<g id=\"edge8\" class=\"edge\"><title>Gandalf the Grey&#45;&#45;Pippin Took</title>\r\n",
       "<path fill=\"none\" stroke=\"black\" d=\"M182.496,-216.056C174.342,-197.202 165.024,-166.442 177.997,-144 218.037,-74.7287 311.259,-42.1137 368.124,-28.1683\"/>\r\n",
       "</g>\r\n",
       "<!-- Saruman the White&#45;&#45;Sauron -->\r\n",
       "<g id=\"edge10\" class=\"edge\"><title>Saruman the White&#45;&#45;Sauron</title>\r\n",
       "<path fill=\"none\" stroke=\"black\" d=\"M285.429,-144.411C299.069,-132.767 317.161,-117.323 330.38,-106.038\"/>\r\n",
       "</g>\r\n",
       "<!-- Legolas -->\r\n",
       "<g id=\"node5\" class=\"node\"><title>Legolas</title>\r\n",
       "<ellipse fill=\"none\" stroke=\"black\" cx=\"38.9965\" cy=\"-90\" rx=\"38.9931\" ry=\"18\"/>\r\n",
       "<text text-anchor=\"middle\" x=\"38.9965\" y=\"-86.3\" font-family=\"Times New Roman,serif\" font-size=\"14.00\">Legolas</text>\r\n",
       "</g>\r\n",
       "<!-- Aragon&#45;&#45;Legolas -->\r\n",
       "<g id=\"edge11\" class=\"edge\"><title>Aragon&#45;&#45;Legolas</title>\r\n",
       "<path fill=\"none\" stroke=\"black\" d=\"M78.936,-144.765C70.5353,-133.456 59.3781,-118.437 50.9917,-107.147\"/>\r\n",
       "</g>\r\n",
       "<!-- Gimli -->\r\n",
       "<g id=\"node6\" class=\"node\"><title>Gimli</title>\r\n",
       "<ellipse fill=\"none\" stroke=\"black\" cx=\"71.9965\" cy=\"-18\" rx=\"30.5947\" ry=\"18\"/>\r\n",
       "<text text-anchor=\"middle\" x=\"71.9965\" y=\"-14.3\" font-family=\"Times New Roman,serif\" font-size=\"14.00\">Gimli</text>\r\n",
       "</g>\r\n",
       "<!-- Aragon&#45;&#45;Gimli -->\r\n",
       "<g id=\"edge12\" class=\"edge\"><title>Aragon&#45;&#45;Gimli</title>\r\n",
       "<path fill=\"none\" stroke=\"black\" d=\"M91.3929,-143.818C91.5365,-125.805 90.9974,-96.735 86.9965,-72 85.0115,-59.7279 81.1744,-46.2523 77.8782,-35.9602\"/>\r\n",
       "</g>\r\n",
       "<!-- Legolas&#45;&#45;Gimli -->\r\n",
       "<g id=\"edge13\" class=\"edge\"><title>Legolas&#45;&#45;Gimli</title>\r\n",
       "<path fill=\"none\" stroke=\"black\" d=\"M46.9849,-72.055C52.1733,-61.0492 58.908,-46.7636 64.0817,-35.789\"/>\r\n",
       "</g>\r\n",
       "<!-- Sam Gamgee&#45;&#45;Gollum -->\r\n",
       "<g id=\"edge14\" class=\"edge\"><title>Sam Gamgee&#45;&#45;Gollum</title>\r\n",
       "<path fill=\"none\" stroke=\"black\" d=\"M355.979,-216.411C365.52,-205.091 378.089,-190.178 387.521,-178.988\"/>\r\n",
       "</g>\r\n",
       "<!-- Gollum&#45;&#45;Sauron -->\r\n",
       "<g id=\"edge15\" class=\"edge\"><title>Gollum&#45;&#45;Sauron</title>\r\n",
       "<path fill=\"none\" stroke=\"black\" d=\"M388.704,-144.765C380.142,-133.456 368.77,-118.437 360.222,-107.147\"/>\r\n",
       "</g>\r\n",
       "<!-- Sauron&#45;&#45;Pippin Took -->\r\n",
       "<g id=\"edge16\" class=\"edge\"><title>Sauron&#45;&#45;Pippin Took</title>\r\n",
       "<path fill=\"none\" stroke=\"black\" d=\"M362.866,-73.4647C373.661,-62.1868 388.239,-46.9552 399.235,-35.4672\"/>\r\n",
       "</g>\r\n",
       "<!-- Merry Brandybuck -->\r\n",
       "<g id=\"node11\" class=\"node\"><title>Merry Brandybuck</title>\r\n",
       "<ellipse fill=\"none\" stroke=\"black\" cx=\"481.997\" cy=\"-90\" rx=\"79.0865\" ry=\"18\"/>\r\n",
       "<text text-anchor=\"middle\" x=\"481.997\" y=\"-86.3\" font-family=\"Times New Roman,serif\" font-size=\"14.00\">Merry Brandybuck</text>\r\n",
       "</g>\r\n",
       "<!-- Boromir&#45;&#45;Merry Brandybuck -->\r\n",
       "<g id=\"edge17\" class=\"edge\"><title>Boromir&#45;&#45;Merry Brandybuck</title>\r\n",
       "<path fill=\"none\" stroke=\"black\" d=\"M523.472,-144.765C514.998,-133.779 503.822,-119.292 495.206,-108.124\"/>\r\n",
       "</g>\r\n",
       "<!-- Boromir&#45;&#45;Pippin Took -->\r\n",
       "<g id=\"edge18\" class=\"edge\"><title>Boromir&#45;&#45;Pippin Took</title>\r\n",
       "<path fill=\"none\" stroke=\"black\" d=\"M550.741,-145.029C566.229,-126.243 586.254,-94.74 569.997,-72 547.42,-40.4204 504.852,-27.4493 470.03,-22.2207\"/>\r\n",
       "</g>\r\n",
       "<!-- Merry Brandybuck&#45;&#45;Pippin Took -->\r\n",
       "<g id=\"edge19\" class=\"edge\"><title>Merry Brandybuck&#45;&#45;Pippin Took</title>\r\n",
       "<path fill=\"none\" stroke=\"black\" d=\"M465.778,-72.055C455.089,-60.8874 441.167,-46.3427 430.605,-35.307\"/>\r\n",
       "</g>\r\n",
       "</g>\r\n",
       "</svg>\r\n"
      ],
      "text/plain": [
       "<graphviz.files.Source at 0x28e1a9a1208>"
      ]
     },
     "execution_count": 24,
     "metadata": {},
     "output_type": "execute_result"
    }
   ],
   "source": [
    "gp.Source.from_file('Lotr.dot') "
   ]
  }
 ],
 "metadata": {
  "kernelspec": {
   "display_name": "Python 3",
   "language": "python",
   "name": "python3"
  },
  "language_info": {
   "codemirror_mode": {
    "name": "ipython",
    "version": 3
   },
   "file_extension": ".py",
   "mimetype": "text/x-python",
   "name": "python",
   "nbconvert_exporter": "python",
   "pygments_lexer": "ipython3",
   "version": "3.7.4"
  }
 },
 "nbformat": 4,
 "nbformat_minor": 2
}
